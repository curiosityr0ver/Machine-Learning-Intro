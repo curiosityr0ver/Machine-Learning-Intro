{
 "cells": [
  {
   "cell_type": "code",
   "execution_count": 17,
   "metadata": {},
   "outputs": [],
   "source": [
    "from typing import List\n",
    "Vector = List[float]\n",
    "import math"
   ]
  },
  {
   "cell_type": "code",
   "execution_count": 10,
   "metadata": {},
   "outputs": [
    {
     "name": "stdout",
     "output_type": "stream",
     "text": [
      "[5, 7, 9]\n",
      "[3, 4, 5]\n"
     ]
    }
   ],
   "source": [
    "Vector = List[float]\n",
    "\n",
    "\n",
    "def add(v: Vector, w: Vector) -> Vector:\n",
    "    return [v_i+w_i for v_i, w_i in zip(v, w)]\n",
    "\n",
    "\n",
    "def sub(v: Vector, w: Vector) -> Vector:\n",
    "    return [v_i-w_i for v_i, w_i in zip(v, w)]\n",
    "\n",
    "\n",
    "v1 = [2, 3, 4, 5]\n",
    "v2 = [3, 4, 5]\n",
    "v3 = add(v1, v2)\n",
    "v4 = sub(v3, v1)\n",
    "print(v3)\n",
    "print(v4)\n"
   ]
  },
  {
   "cell_type": "code",
   "execution_count": 11,
   "metadata": {},
   "outputs": [
    {
     "name": "stdout",
     "output_type": "stream",
     "text": [
      "[6, 9]\n"
     ]
    }
   ],
   "source": [
    "def vector_sum(vectors: List[Vector]) -> Vector:\n",
    "    n = len(vectors[0])\n",
    "    return [sum(vector[i] for vector in vectors) for i in range(n)]\n",
    "\n",
    "\n",
    "print(vector_sum([[1, 2], [2, 3], [3, 4]]))\n"
   ]
  },
  {
   "cell_type": "code",
   "execution_count": 24,
   "metadata": {},
   "outputs": [
    {
     "data": {
      "text/plain": [
       "71"
      ]
     },
     "execution_count": 24,
     "metadata": {},
     "output_type": "execute_result"
    }
   ],
   "source": [
    "def dot(v: Vector, w: Vector):\n",
    "    \n",
    "    sum = 0\n",
    "    for v_i,w_i in zip(v, w):\n",
    "        sum += v_i*w_i\n",
    "    return sum\n",
    "\n",
    "\n",
    "v = [4, 5, 6]\n",
    "w = [3, 1, 9]\n",
    "dot(v,w)"
   ]
  },
  {
   "cell_type": "code",
   "execution_count": 19,
   "metadata": {},
   "outputs": [
    {
     "data": {
      "text/plain": [
       "5.830951894845301"
      ]
     },
     "execution_count": 19,
     "metadata": {},
     "output_type": "execute_result"
    }
   ],
   "source": [
    "def magnitude(v:Vector):\n",
    "    return math.sqrt(dot(v,v))\n",
    "\n",
    "magnitude([3,4,3])"
   ]
  },
  {
   "cell_type": "code",
   "execution_count": 31,
   "metadata": {},
   "outputs": [
    {
     "name": "stdout",
     "output_type": "stream",
     "text": [
      "[7, 8, 9] [2, 5, 8]\n"
     ]
    }
   ],
   "source": [
    "def getRow(M, ind):\n",
    "    return M[ind]\n",
    "\n",
    "def getCol(M, ind):\n",
    "    return [row[ind] for row in M]\n",
    "\n",
    "M = [[1,2,3],[4,5,6],[7,8,9]]\n",
    "print(\"Row 2:\", getRow(M,2),\"Col 1:\", getCol(M, 1))"
   ]
  },
  {
   "cell_type": "code",
   "execution_count": null,
   "metadata": {},
   "outputs": [],
   "source": []
  }
 ],
 "metadata": {
  "kernelspec": {
   "display_name": "base",
   "language": "python",
   "name": "python3"
  },
  "language_info": {
   "codemirror_mode": {
    "name": "ipython",
    "version": 3
   },
   "file_extension": ".py",
   "mimetype": "text/x-python",
   "name": "python",
   "nbconvert_exporter": "python",
   "pygments_lexer": "ipython3",
   "version": "3.9.7"
  },
  "orig_nbformat": 4
 },
 "nbformat": 4,
 "nbformat_minor": 2
}
