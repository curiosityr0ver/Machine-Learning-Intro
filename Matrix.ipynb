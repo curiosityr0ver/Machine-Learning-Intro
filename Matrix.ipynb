{
 "cells": [
  {
   "cell_type": "code",
   "execution_count": 6,
   "metadata": {},
   "outputs": [],
   "source": [
    "from typing import Callable\n",
    "from typing import List\n",
    "Vector = [List[float]]\n",
    "Matrix = List[List[float]]"
   ]
  },
  {
   "cell_type": "code",
   "execution_count": 15,
   "metadata": {},
   "outputs": [],
   "source": [
    "def display(M:Matrix):\n",
    "    for row in M:\n",
    "        print(row)\n",
    "        print(\" \")"
   ]
  },
  {
   "cell_type": "code",
   "execution_count": 7,
   "metadata": {},
   "outputs": [
    {
     "name": "stdout",
     "output_type": "stream",
     "text": [
      "Row 2: [7, 8, 9] \n",
      "Col 1: [2, 5, 8]\n"
     ]
    }
   ],
   "source": [
    "def getRow(M, ind):\n",
    "    return M[ind]\n",
    "\n",
    "\n",
    "def getCol(M, ind):\n",
    "    return [row[ind] for row in M]\n",
    "\n",
    "\n",
    "M = [[1, 2, 3], [4, 5, 6], [7, 8, 9]]\n",
    "print(\"Row 2:\", getRow(M, 2), \"\\nCol 1:\", getCol(M, 1))\n"
   ]
  },
  {
   "cell_type": "code",
   "execution_count": 12,
   "metadata": {},
   "outputs": [],
   "source": [
    "\n",
    "def make_matrix(rows: int, cols:int, fn: Callable[[int, int], float]):\n",
    "    return [[fn(i,j)\n",
    "    for j in range(cols)]\n",
    "    for i in range(rows)]"
   ]
  },
  {
   "cell_type": "code",
   "execution_count": 16,
   "metadata": {},
   "outputs": [
    {
     "name": "stdout",
     "output_type": "stream",
     "text": [
      "[1, 0, 0, 0]\n",
      " \n",
      "[0, 1, 0, 0]\n",
      " \n",
      "[0, 0, 1, 0]\n",
      " \n",
      "[0, 0, 0, 1]\n",
      " \n"
     ]
    }
   ],
   "source": [
    "def identity_matrix(n:int)->Matrix:\n",
    "    return make_matrix(n,n,lambda i,j: 1 if i==j else 0)\n",
    "\n",
    "display(identity_matrix(4))"
   ]
  },
  {
   "cell_type": "code",
   "execution_count": 17,
   "metadata": {},
   "outputs": [
    {
     "name": "stdout",
     "output_type": "stream",
     "text": [
      "[0, 1, 2]\n",
      " \n",
      "[1, 2, 3]\n",
      " \n",
      "[2, 3, 4]\n",
      " \n"
     ]
    }
   ],
   "source": [
    "display(make_matrix(3,3, lambda i,j: i+j))"
   ]
  },
  {
   "cell_type": "code",
   "execution_count": 34,
   "metadata": {},
   "outputs": [
    {
     "data": {
      "text/plain": [
       "{0, 1, 2, 3, 4, 5, 6, 7, 8, 9}"
      ]
     },
     "execution_count": 34,
     "metadata": {},
     "output_type": "execute_result"
    }
   ],
   "source": [
    "friendships = [(0, 1), (0, 2), (1, 2), (1, 3), (2, 3), (3, 4),\n",
    "               (4, 5), (5, 6), (5, 7), (6, 8), (8, 9)]\n",
    "\n",
    "\n",
    "people = set()\n",
    "\n",
    "for pair in friendships:\n",
    "    people.add(pair[0])\n",
    "    people.add(pair[1])\n",
    "\n",
    "# make_matrix(len(people), len(people), lambda i,j: 1 if friendships)\n",
    "people"
   ]
  },
  {
   "cell_type": "code",
   "execution_count": null,
   "metadata": {},
   "outputs": [],
   "source": [
    "def print_matrix(a: int, b: int):\n",
    "    for i,j in friendships:\n",
    "        if(a==i and b == j or a== j and b== i):\n",
    "            return 1\n",
    "    return 0"
   ]
  },
  {
   "cell_type": "code",
   "execution_count": null,
   "metadata": {},
   "outputs": [],
   "source": []
  }
 ],
 "metadata": {
  "kernelspec": {
   "display_name": "base",
   "language": "python",
   "name": "python3"
  },
  "language_info": {
   "codemirror_mode": {
    "name": "ipython",
    "version": 3
   },
   "file_extension": ".py",
   "mimetype": "text/x-python",
   "name": "python",
   "nbconvert_exporter": "python",
   "pygments_lexer": "ipython3",
   "version": "3.9.7"
  },
  "orig_nbformat": 4
 },
 "nbformat": 4,
 "nbformat_minor": 2
}
